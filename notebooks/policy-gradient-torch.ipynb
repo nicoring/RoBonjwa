{
 "cells": [
  {
   "cell_type": "code",
   "execution_count": 1,
   "metadata": {
    "collapsed": false
   },
   "outputs": [],
   "source": [
    "\"\"\" Trains an agent with (stochastic) Policy Gradients on Pong. Uses OpenAI Gym. \"\"\"\n",
    "from collections import namedtuple, deque\n",
    "\n",
    "import numpy as np\n",
    "import gym\n",
    "import torch\n",
    "import torch.nn as nn\n",
    "import torch.optim as optim\n",
    "import torch.nn.functional as F\n",
    "from torch.autograd import Variable\n",
    "import random\n",
    "import roboschool\n",
    "import matplotlib.pyplot as plt"
   ]
  },
  {
   "cell_type": "code",
   "execution_count": 4,
   "metadata": {
    "collapsed": true
   },
   "outputs": [],
   "source": [
    "H = 20\n",
    "class PolicyNetwork(nn.Module):\n",
    "    def __init__(self):\n",
    "        super().__init__()\n",
    "        self.lin1 = nn.Linear(4, H)\n",
    "        self.lin2 = nn.Linear(H, 2)\n",
    "    \n",
    "    def forward(self, x):\n",
    "        x = F.relu(self.lin1(x))\n",
    "        return F.softmax(self.lin2(x), dim=-1)"
   ]
  },
  {
   "cell_type": "code",
   "execution_count": 5,
   "metadata": {
    "collapsed": false
   },
   "outputs": [],
   "source": [
    "def discount_rewards(r):\n",
    "    \"\"\" take 1D float array of rewards and compute discounted reward \"\"\"\n",
    "    discounted_r = np.zeros_like(r)\n",
    "    running_add = 0\n",
    "    for t in reversed(range(0, r.size)):\n",
    "        running_add = running_add * gamma + r[t]\n",
    "        discounted_r[t] = running_add\n",
    "        return discounted_r\n",
    "    \n",
    "def prep_state(s):\n",
    "    return Variable(torch.from_numpy(s).float().unsqueeze(0))\n",
    "\n",
    "def to_tensor(l):\n",
    "    return torch.from_numpy(np.asarray(l))"
   ]
  },
  {
   "cell_type": "code",
   "execution_count": 6,
   "metadata": {
    "collapsed": false
   },
   "outputs": [
    {
     "name": "stdout",
     "output_type": "stream",
     "text": [
      "\u001b[33mWARN: gym.spaces.Box autodetected dtype as <class 'numpy.float32'>. Please provide explicit dtype.\u001b[0m\n"
     ]
    }
   ],
   "source": [
    "env = gym.make(\"CartPole-v0\")"
   ]
  },
  {
   "cell_type": "code",
   "execution_count": 38,
   "metadata": {
    "collapsed": false,
    "scrolled": false
   },
   "outputs": [
    {
     "name": "stdout",
     "output_type": "stream",
     "text": [
      "20.0\n",
      "19.87230682820147\n",
      "30.706320027031104\n",
      "44.862767672507815\n",
      "53.56848809964372\n",
      "59.1156799598485\n",
      "61.712751807070916\n",
      "68.40384503065718\n",
      "68.89491504141591\n",
      "81.85586260613924\n",
      "92.48324674210147\n",
      "107.43526064753243\n",
      "126.20602820238888\n",
      "138.03602394080397\n",
      "149.2794898431134\n",
      "150.7440581732776\n",
      "156.7331639288185\n",
      "160.17184953536886\n",
      "167.14573570079475\n",
      "167.56267901659248\n",
      "176.82796887946247\n",
      "177.69113333139023\n",
      "174.96807455026197\n",
      "176.97359757886252\n",
      "179.25421163208512\n",
      "187.7295318509598\n",
      "190.20355462639836\n",
      "186.804508731765\n",
      "190.2930363604267\n",
      "192.35051513867083\n",
      "190.99088995412345\n",
      "192.35766601696943\n",
      "188.50405027355995\n",
      "188.79077772784794\n",
      "191.79547764696844\n",
      "195.3703882622962\n",
      "196.0128168294378\n",
      "197.18623530285478\n",
      "195.44490223580758\n",
      "191.9558593717315\n",
      "195.09744301944312\n",
      "197.3065224990021\n",
      "194.29927863538353\n",
      "196.61320577944736\n",
      "194.64198207679317\n",
      "196.41647180198888\n",
      "197.23268370297617\n",
      "196.8515932040046\n",
      "197.5268311383301\n",
      "197.72429652591234\n"
     ]
    }
   ],
   "source": [
    "model = PolicyNetwork()\n",
    "optimizer = torch.optim.RMSprop(model.parameters())\n",
    "\n",
    "running_reward = None\n",
    "num_episodes = 5000\n",
    "gamma = 0.99 # discount factor for reward\n",
    "\n",
    "for episode_number in range(num_episodes):\n",
    "    rewards = []\n",
    "    actions = []\n",
    "    outputs = []\n",
    "    done = False\n",
    "    state = env.reset()\n",
    "    reward_sum = 0\n",
    "    \n",
    "    while not done:\n",
    "        if episode_number % 100 == 0:\n",
    "            env.render()\n",
    "        output = model(prep_state(state))\n",
    "        action = 1 if random.random() < output.data[0,1] else 0\n",
    "        state, reward, done, _ = env.step(action)\n",
    "        reward_sum += reward\n",
    "        rewards.append(reward)\n",
    "        actions.append(torch.LongTensor([[action]]))\n",
    "        outputs.append(output)\n",
    "        \n",
    "    running_reward = reward_sum if running_reward is None else running_reward * 0.99 + reward_sum * 0.01\n",
    "    if episode_number % 100 == 0:\n",
    "        print(running_reward)  \n",
    "    \n",
    "    discounted_rewards = Variable(torch.FloatTensor(discount_rewards(np.array(rewards))))\n",
    "    \n",
    "    actions = Variable(torch.cat(actions))\n",
    "    probs = torch.cat(outputs).gather(1, actions)\n",
    "    loss = torch.mean(discounted_rewards * torch.log(probs))\n",
    "    loss.backward()\n",
    "    if episode_number % 32 == 0:\n",
    "        optimizer.step()\n",
    "        optimizer.zero_grad()\n"
   ]
  },
  {
   "cell_type": "code",
   "execution_count": 26,
   "metadata": {
    "collapsed": false
   },
   "outputs": [],
   "source": [
    "class PolicyGradient:\n",
    "    def __init__(self, env, model):\n",
    "        self.model = model\n",
    "        self.env = env\n",
    "        self.gamma = 0.999\n",
    "        self.render = True\n",
    "        \n",
    "    def discount_rewards(self, r):\n",
    "        \"\"\" take 1D float array of rewards and compute discounted reward \"\"\"\n",
    "        discounted_r = np.zeros_like(r)\n",
    "        running_add = 0\n",
    "        for t in reversed(range(0, r.size)):\n",
    "            running_add = running_add * self.gamma + r[t]\n",
    "            discounted_r[t] = running_add\n",
    "            return discounted_r\n",
    "\n",
    "    def prep_state(self, s):\n",
    "        return Variable(torch.from_numpy(s).float().unsqueeze(0))\n",
    "    \n",
    "    def train(self, num_episodes=5000):\n",
    "        optimizer = torch.optim.RMSprop(self.model.parameters())\n",
    "        running_reward = None\n",
    "        gamma = 0.99 # discount factor for reward\n",
    "        reward_sums = []\n",
    "\n",
    "        for episode_number in range(num_episodes):\n",
    "            rewards = []\n",
    "            actions = []\n",
    "            outputs = []\n",
    "            done = False\n",
    "            state = self.env.reset()\n",
    "            reward_sum = 0\n",
    "\n",
    "            while not done:\n",
    "                if episode_number % 100 == 0 and self.render:\n",
    "                    self.env.render()\n",
    "                output = self.model(self.prep_state(state))\n",
    "                action = 1 if random.random() < output.data[0,1] else 0\n",
    "                state, reward, done, _ = self.env.step(action)\n",
    "                reward_sum += reward\n",
    "                rewards.append(reward)\n",
    "                actions.append(torch.LongTensor([[action]]))\n",
    "                outputs.append(output)\n",
    "\n",
    "            reward_sums.append(reward_sum)\n",
    "            running_reward = reward_sum if running_reward is None else running_reward * 0.99 + reward_sum * 0.01\n",
    "            if episode_number % 100 == 0:\n",
    "                print(running_reward)  \n",
    "\n",
    "            discounted_rewards = Variable(torch.FloatTensor(self.discount_rewards(np.array(rewards))))\n",
    "\n",
    "            actions = Variable(torch.cat(actions))\n",
    "            probs = torch.cat(outputs).gather(1, actions)\n",
    "            loss = torch.mean(discounted_rewards * torch.log(probs))\n",
    "            loss.backward()\n",
    "            if episode_number % 32 == 0:\n",
    "                optimizer.step()\n",
    "                optimizer.zero_grad()\n",
    "        return reward_sums"
   ]
  },
  {
   "cell_type": "code",
   "execution_count": 27,
   "metadata": {
    "collapsed": false
   },
   "outputs": [],
   "source": [
    "model = PolicyNetwork()\n",
    "pg = PolicyGradient(env, model)"
   ]
  },
  {
   "cell_type": "code",
   "execution_count": 23,
   "metadata": {
    "collapsed": false
   },
   "outputs": [
    {
     "name": "stdout",
     "output_type": "stream",
     "text": [
      "60.0\n",
      "49.53791984098626\n",
      "55.10174386678715\n",
      "63.96510586087324\n",
      "74.52363876049746\n",
      "93.61514412529061\n",
      "125.70817333438852\n",
      "148.65743808543854\n",
      "159.95118884835205\n",
      "174.13174931082315\n",
      "180.47681416474327\n",
      "182.09704132553574\n",
      "181.0012914964994\n",
      "186.09552128670927\n",
      "191.72237379829284\n",
      "195.2466306820776\n",
      "194.21691553952394\n",
      "197.25770051023687\n",
      "195.71709274375218\n",
      "197.477918172532\n"
     ]
    }
   ],
   "source": [
    "rewards = pg.train(2000)"
   ]
  },
  {
   "cell_type": "code",
   "execution_count": 25,
   "metadata": {
    "collapsed": false
   },
   "outputs": [
    {
     "data": {
      "text/plain": [
       "[<matplotlib.lines.Line2D at 0x11d72dba8>]"
      ]
     },
     "execution_count": 25,
     "metadata": {},
     "output_type": "execute_result"
    },
    {
     "data": {
      "image/png": "[encoded data removed]",
      "text/plain": [
       "<matplotlib.figure.Figure at 0x11c8b1400>"
      ]
     },
     "metadata": {},
     "output_type": "display_data"
    }
   ],
   "source": [
    "plt.plot(rewards)"
   ]
  },
  {
   "cell_type": "code",
   "execution_count": 48,
   "metadata": {
    "collapsed": false
   },
   "outputs": [],
   "source": [
    "Transition = namedtuple('Transition',\n",
    "                        ('state', 'action', 'reward', 'next_state'))\n",
    "Batch = namedtuple('Batch', ('states', 'actions', 'rewards', 'next_states'))\n",
    "\n",
    "class ReplayMemory:\n",
    "    def __init__(self, capacity):\n",
    "        self.capacity = capacity\n",
    "        self.memory = deque([], maxlen=capacity)\n",
    "    \n",
    "    def add(self, *args):\n",
    "        \"\"\"Saves a transition.\"\"\"\n",
    "        self.memory.append(Transition(*args))\n",
    "    \n",
    "    def sample_batch(self, batch_size):\n",
    "        transitions = random.sample(self.memory, batch_size)\n",
    "        batch = Batch(*zip(*transitions))\n",
    "        states = torch.cat(batch.states)\n",
    "        actions = torch.cat(batch.actions)\n",
    "        rewards = Variable(torch.cat(batch.rewards).unsqueeze(1))\n",
    "        next_states = torch.cat(batch.next_states)\n",
    "        return Batch(states, actions, rewards, next_states)\n",
    "    \n",
    "    def __len__(self):\n",
    "        return len(self.memory)\n",
    "\n",
    "class RandomProcess:\n",
    "    def __init__(self, shape, theta=0.15, sigma=0.2):\n",
    "        self.theta = theta\n",
    "        self.mu = 0\n",
    "        self.sigma = sigma\n",
    "        self.last = 0\n",
    "        self.shape = np.atleast_1d(shape)\n",
    "    \n",
    "    def sample(self):\n",
    "        self.last = self.last + self.theta * (self.mu - self.last) + self.sigma * np.random.randn(*self.shape)\n",
    "        return self.last\n",
    "    \n",
    "    def reset(self):\n",
    "        self.last = 0\n",
    "\n",
    "class DDPG:\n",
    "    def __init__(self, env, actor_model, critic_model):\n",
    "        self.env = env\n",
    "        self.actor = actor_model\n",
    "        self.actor_target = actor_model.clone()\n",
    "        self.critic = critic_model\n",
    "        self.critic_target = critic_model.clone()\n",
    "        self.capacity = 10000\n",
    "        self.memory = ReplayMemory(self.capacity)\n",
    "        self.batch_size = 500\n",
    "        self.gamma = 0.999\n",
    "        self.tau = 0.1\n",
    "        self.random_process = RandomProcess(env.action_space.shape[0])\n",
    "        \n",
    "        self.optim_critic = optim.RMSprop(self.critic.parameters())\n",
    "        self.optim_actor = optim.RMSprop(self.actor.parameters())\n",
    "        self.render = 100\n",
    "        \n",
    "    def update(self, target, source):\n",
    "        zipped = zip(target.parameters(), source.parameters())\n",
    "        for target_param, source_param in zipped:\n",
    "            updated_param = target_param.data * (1 - self.tau) + source_param.data * self.tau\n",
    "            target_param.data.copy_(updated_param)    \n",
    "        \n",
    "    def train_models(self):\n",
    "        if len(self.memory) < self.batch_size:\n",
    "            return None, None\n",
    "        mini_batch = self.memory.sample_batch(self.batch_size)\n",
    "        critic_loss = self.train_critic(mini_batch)\n",
    "        actor_loss = self.train_actor(mini_batch)\n",
    "        self.update(self.actor_target, self.actor)\n",
    "        self.update(self.critic_target, self.critic)\n",
    "        return critic_loss.data[0], actor_loss.data[0]\n",
    "\n",
    "    def mse(self, inputs, targets):\n",
    "        return torch.mean((inputs - targets)**2)\n",
    "        \n",
    "    def train_critic(self, batch):\n",
    "        # forward pass\n",
    "        pred_actions = self.actor_target(batch.next_states)\n",
    "        target_q = batch.rewards + self.critic_target([batch.next_states, pred_actions]) * self.gamma\n",
    "        pred_q = self.critic([batch.states, batch.actions])\n",
    "        target_q = target_q.detach()\n",
    "        #backward pass\n",
    "#         loss = F.smooth_l1_loss(pred_q, target_q)\n",
    "        loss = self.mse(pred_q, target_q)\n",
    "        self.optim_critic.zero_grad()\n",
    "        loss.backward(retain_graph=True)\n",
    "        for param in self.critic.parameters():\n",
    "            param.grad.data.clamp_(-1, 1)\n",
    "        self.optim_critic.step()\n",
    "        return loss\n",
    "\n",
    "    def train_actor(self, batch):        \n",
    "        # forward pass\n",
    "        pred_mu = self.actor(batch.states)\n",
    "        pred_q = self.critic([batch.states, pred_mu])\n",
    "        # backward pass\n",
    "        loss = (pred_q).mean()\n",
    "        self.optim_actor.zero_grad()\n",
    "        loss.backward()\n",
    "        for param in self.actor.parameters():\n",
    "            param.grad.data.clamp_(-1, 1)\n",
    "        self.optim_actor.step()\n",
    "        return loss\n",
    "        \n",
    "    def prep_state(self, s):\n",
    "        return Variable(torch.from_numpy(s).float().unsqueeze(0))\n",
    "        \n",
    "    def select_action(self, state, exploration=True):\n",
    "        action = self.actor(state)\n",
    "        if exploration:\n",
    "            noise = self.random_process.sample()\n",
    "            action = action + Variable(torch.from_numpy(noise).float())\n",
    "        return action\n",
    "    \n",
    "    def train(self, num_episodes):\n",
    "        running_reward = None\n",
    "        reward_sums = []\n",
    "        losses = []\n",
    "\n",
    "        for episode_number in range(num_episodes):\n",
    "            done = False\n",
    "            state = self.prep_state(self.env.reset())\n",
    "            reward_sum = 0\n",
    "            self.random_process.reset()\n",
    "\n",
    "            while not done:\n",
    "                if self.render is not None and episode_number % self.render == 0:\n",
    "                    self.env.render()\n",
    "                action = self.select_action(state)\n",
    "                next_state, reward, done, _ = self.env.step(action.data.numpy()[0])\n",
    "                next_state = self.prep_state(next_state)\n",
    "                reward = torch.FloatTensor([reward])\n",
    "                self.memory.add(state, action, reward, next_state)\n",
    "                state = next_state\n",
    "                reward_sum += reward[0]\n",
    "                losses.append(self.train_models())\n",
    "\n",
    "            reward_sums.append(reward_sum)\n",
    "            running_reward = reward_sum if running_reward is None else running_reward * 0.99 + reward_sum * 0.01\n",
    "            \n",
    "            if episode_number % 100 == 0:\n",
    "                print(running_reward)  \n",
    "            \n",
    "        return reward_sums, losses\n",
    "\n",
    "    def run(self, render=True):\n",
    "        state = self.env.reset()\n",
    "        done = False\n",
    "        reward_sum = 0\n",
    "        while not done:\n",
    "            if render:\n",
    "                self.env.render()\n",
    "            action = self.select_action(self.prep_state(state), exploration=False)\n",
    "            state, reward, done, _ = self.env.step(action.data[0])\n",
    "            reward_sum += reward\n",
    "        return reward_sum"
   ]
  },
  {
   "cell_type": "code",
   "execution_count": 41,
   "metadata": {
    "collapsed": true
   },
   "outputs": [],
   "source": [
    "class Cloneable:\n",
    "    def clone(self):\n",
    "        assert self.args\n",
    "        model_clone = self.__class__(*self.args)\n",
    "        model_clone.load_state_dict(self.state_dict())\n",
    "        model_clone.train(False)\n",
    "        return model_clone\n",
    "\n",
    "class Actor(nn.Module, Cloneable):\n",
    "    def __init__(self, n_states, n_actions, n_hidden):\n",
    "        super().__init__()\n",
    "        self.args = (n_states, n_actions, n_hidden)\n",
    "        self.lin1 = nn.Linear(n_states, n_hidden)\n",
    "        self.lin2 = nn.Linear(n_hidden, n_hidden)\n",
    "        self.lin3 = nn.Linear(n_hidden, n_actions)\n",
    "        \n",
    "    def forward(self, x):\n",
    "        x = F.relu(self.lin1(x))\n",
    "        x = F.relu(self.lin2(x))\n",
    "        x = F.tanh(self.lin3(x))\n",
    "        return x\n",
    "\n",
    "class Critic(nn.Module, Cloneable):\n",
    "    def __init__(self, n_states, n_actions, n_hidden):\n",
    "        super().__init__()\n",
    "        self.args = (n_states, n_actions, n_hidden)\n",
    "        self.lin_states = nn.Linear(n_states, n_hidden)\n",
    "        self.lin1 = nn.Linear(n_hidden + n_actions, n_hidden)\n",
    "        self.lin2 = nn.Linear(n_hidden, 1)\n",
    "    \n",
    "    def forward(self, x):\n",
    "        s, a = x\n",
    "        states_hidden = F.relu(self.lin_states(s))\n",
    "        x = F.relu(self.lin1(torch.cat([states_hidden, a], 1)))\n",
    "        x = self.lin2(x)\n",
    "        return x\n",
    "        "
   ]
  },
  {
   "cell_type": "code",
   "execution_count": 49,
   "metadata": {
    "collapsed": false,
    "scrolled": false
   },
   "outputs": [
    {
     "name": "stdout",
     "output_type": "stream",
     "text": [
      "\u001b[33mWARN: gym.spaces.Box autodetected dtype as <class 'numpy.float32'>. Please provide explicit dtype.\u001b[0m\n",
      "\u001b[33mWARN: gym.spaces.Box autodetected dtype as <class 'numpy.float32'>. Please provide explicit dtype.\u001b[0m\n",
      "10.0\n"
     ]
    }
   ],
   "source": [
    "env = gym.make('RoboschoolInvertedPendulum-v1')\n",
    "n_states = env.observation_space.shape[0]\n",
    "n_actions = env.action_space.shape[0]\n",
    "actor = Actor(n_states, n_actions, 40)\n",
    "critic = Critic(n_states, n_actions, 40)\n",
    "try:\n",
    "    ddpg = DDPG(env, actor, critic)\n",
    "    rewards, losses = ddpg.train(100)\n",
    "finally:\n",
    "    env.close()"
   ]
  },
  {
   "cell_type": "code",
   "execution_count": 47,
   "metadata": {
    "collapsed": false
   },
   "outputs": [
    {
     "data": {
      "image/png": "[encoded data removed]",
      "text/plain": [
       "<matplotlib.figure.Figure at 0x11ad11b00>"
      ]
     },
     "metadata": {},
     "output_type": "display_data"
    },
    {
     "data": {
      "image/png": "[encoded data removed]",
      "text/plain": [
       "<matplotlib.figure.Figure at 0x12399ee10>"
      ]
     },
     "metadata": {},
     "output_type": "display_data"
    },
    {
     "data": {
      "image/png": "[encoded data removed]",
      "text/plain": [
       "<matplotlib.figure.Figure at 0x124dce5c0>"
      ]
     },
     "metadata": {},
     "output_type": "display_data"
    }
   ],
   "source": [
    "plt.plot(rewards)\n",
    "plt.title('rewards')\n",
    "plt.show()\n",
    "\n",
    "losses = np.array(losses)\n",
    "plt.plot(losses[:,0],label='critic loss')\n",
    "plt.title('critic loss')\n",
    "plt.show()\n",
    "plt.plot(losses[:,1],label='actor loss')\n",
    "plt.title('actor losses')\n",
    "plt.legend()\n",
    "plt.show()"
   ]
  },
  {
   "cell_type": "code",
   "execution_count": 108,
   "metadata": {
    "collapsed": false
   },
   "outputs": [],
   "source": [
    "x = torch.mean(torch.arange(1,10)**2)"
   ]
  },
  {
   "cell_type": "code",
   "execution_count": 5,
   "metadata": {
    "collapsed": false
   },
   "outputs": [
    {
     "name": "stdout",
     "output_type": "stream",
     "text": [
      "\u001b[33mWARN: gym.spaces.Box autodetected dtype as <class 'numpy.float32'>. Please provide explicit dtype.\u001b[0m\n",
      "\u001b[33mWARN: gym.spaces.Box autodetected dtype as <class 'numpy.float32'>. Please provide explicit dtype.\u001b[0m\n"
     ]
    },
    {
     "ename": "NameError",
     "evalue": "name 'actor_pendulum' is not defined",
     "output_type": "error",
     "traceback": [
      "\u001b[0;31m---------------------------------------------------------------------------\u001b[0m",
      "\u001b[0;31mNameError\u001b[0m                                 Traceback (most recent call last)",
      "\u001b[0;32m<ipython-input-5-77ba15837f79>\u001b[0m in \u001b[0;36m<module>\u001b[0;34m()\u001b[0m\n\u001b[1;32m      1\u001b[0m \u001b[0menv\u001b[0m \u001b[0;34m=\u001b[0m \u001b[0mgym\u001b[0m\u001b[0;34m.\u001b[0m\u001b[0mmake\u001b[0m\u001b[0;34m(\u001b[0m\u001b[0;34m'RoboschoolInvertedPendulumSwingup-v1'\u001b[0m\u001b[0;34m)\u001b[0m\u001b[0;34m\u001b[0m\u001b[0m\n\u001b[0;32m----> 2\u001b[0;31m \u001b[0mddpg\u001b[0m \u001b[0;34m=\u001b[0m \u001b[0mDDPG\u001b[0m\u001b[0;34m(\u001b[0m\u001b[0menv\u001b[0m\u001b[0;34m,\u001b[0m \u001b[0mactor_pendulum\u001b[0m\u001b[0;34m,\u001b[0m \u001b[0mcritic_pendulum\u001b[0m\u001b[0;34m)\u001b[0m\u001b[0;34m\u001b[0m\u001b[0m\n\u001b[0m",
      "\u001b[0;31mNameError\u001b[0m: name 'actor_pendulum' is not defined"
     ]
    }
   ],
   "source": [
    "env = gym.make('RoboschoolInvertedPendulumSwingup-v1')\n",
    "ddpg = DDPG(env, actor_pendulum, critic_pendulum)"
   ]
  },
  {
   "cell_type": "code",
   "execution_count": 261,
   "metadata": {
    "collapsed": true
   },
   "outputs": [],
   "source": [
    "env.close()"
   ]
  },
  {
   "cell_type": "code",
   "execution_count": 260,
   "metadata": {
    "collapsed": false
   },
   "outputs": [
    {
     "data": {
      "text/plain": [
       "1000.0"
      ]
     },
     "execution_count": 260,
     "metadata": {},
     "output_type": "execute_result"
    }
   ],
   "source": [
    "ddpg.run()"
   ]
  },
  {
   "cell_type": "code",
   "execution_count": 158,
   "metadata": {
    "collapsed": true
   },
   "outputs": [],
   "source": [
    "actor_pendulum = actor"
   ]
  },
  {
   "cell_type": "code",
   "execution_count": 159,
   "metadata": {
    "collapsed": true
   },
   "outputs": [],
   "source": [
    "critic_pendulum = critic"
   ]
  },
  {
   "cell_type": "code",
   "execution_count": 216,
   "metadata": {
    "collapsed": true
   },
   "outputs": [],
   "source": [
    "r = RandomProcess(3)"
   ]
  },
  {
   "cell_type": "code",
   "execution_count": 240,
   "metadata": {
    "collapsed": false
   },
   "outputs": [
    {
     "data": {
      "text/plain": [
       "[<matplotlib.lines.Line2D at 0x120635518>]"
      ]
     },
     "execution_count": 240,
     "metadata": {},
     "output_type": "execute_result"
    },
    {
     "data": {
      "image/png": "[encoded data removed]",
      "text/plain": [
       "<matplotlib.figure.Figure at 0x1201931d0>"
      ]
     },
     "metadata": {},
     "output_type": "display_data"
    }
   ],
   "source": [
    "a,b,c = [],[],[]\n",
    "for _ in range(200):\n",
    "    s = r.sample()\n",
    "    a.append(s[0])\n",
    "    b.append(s[1])\n",
    "    c.append(s[2])\n",
    "plt.plot(a)\n",
    "plt.plot(b)\n",
    "plt.plot(c)"
   ]
  },
  {
   "cell_type": "code",
   "execution_count": 211,
   "metadata": {
    "collapsed": false
   },
   "outputs": [
    {
     "data": {
      "text/plain": [
       "array([1])"
      ]
     },
     "execution_count": 211,
     "metadata": {},
     "output_type": "execute_result"
    }
   ],
   "source": [
    "np.atleast_1d((1))"
   ]
  },
  {
   "cell_type": "code",
   "execution_count": null,
   "metadata": {
    "collapsed": true
   },
   "outputs": [],
   "source": []
  }
 ],
 "metadata": {
  "kernelspec": {
   "display_name": "roboschool",
   "language": "python",
   "name": "roboschool"
  },
  "language_info": {
   "codemirror_mode": {
    "name": "ipython",
    "version": 3
   },
   "file_extension": ".py",
   "mimetype": "text/x-python",
   "name": "python",
   "nbconvert_exporter": "python",
   "pygments_lexer": "ipython3",
   "version": "3.6.2"
  }
 },
 "nbformat": 4,
 "nbformat_minor": 2
}
